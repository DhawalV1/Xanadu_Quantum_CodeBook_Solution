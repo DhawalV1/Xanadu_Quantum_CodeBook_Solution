{
 "cells": [
  {
   "cell_type": "markdown",
   "metadata": {},
   "source": [
    "Author: [Dhawal Verma](https://github.com/DhawalV1)\r\n",
    "LinkedIn: [Dhawal Verma](https://www.linkedin.com/in/dverma1729/)\r\n",
    "Twitter: [@dhawal3297](https://twitter.com/dhawal3297)"
   ]
  },
  {
   "cell_type": "markdown",
   "metadata": {
    "id": "D1QPqdhfgB_s"
   },
   "source": [
    "## E.3 Are you Shor this works?"
   ]
  },
  {
   "cell_type": "markdown",
   "metadata": {
    "id": "N08fc_IlgFB6"
   },
   "source": [
    "![](https://codebook.xanadu.ai/images/shor.png)"
   ]
  },
  {
   "cell_type": "code",
   "execution_count": 2,
   "metadata": {
    "id": "Zpbqg3VoeM-N"
   },
   "outputs": [],
   "source": [
    "import numpy as np"
   ]
  },
  {
   "cell_type": "markdown",
   "metadata": {
    "id": "QGFjQ1cbgJTR"
   },
   "source": [
    "#### Codercise E.3.1.\n",
    "\n",
    "It turns out that Shor's code can even decode multi-qubit Pauli errors. So let's create a function that can generate any error we please. We'll use this extensively going forward.\n",
    "\n",
    "The function that is available to you is called error. It takes two keyword arguments"
   ]
  },
  {
   "cell_type": "code",
   "execution_count": 5,
   "metadata": {
    "id": "HvGp8qFigMGt"
   },
   "outputs": [],
   "source": [
    "# Create a Z error on qubit 4\n",
    "z_error_4 = error(error_type=\"Z\", wires=[4])\n",
    "\n",
    "# Create a YX error on qubits 8 and 0\n",
    "yx_error_80 = error(error_type=\"YX\", wires=[8, 0])\n",
    "\n",
    "# Create a XXZZYY error on qubits 1, 2, 3, 4, 5, and 0.\n",
    "xxzzyy_error_123450 = error(error_type=\"XXZZYY\", wires=[1, 2, 3, 4, 5, 0])\n"
   ]
  },
  {
   "cell_type": "markdown",
   "metadata": {
    "id": "fik01f3MgP7o"
   },
   "source": [
    "### Codercise E.3.2.\n",
    "\n",
    "Complete the shor QNode below such that it performs exactly what the diagram above shows. The state  that gets encoded is an arbitrary quantum state; it doesn't matter what it is. We've left it as an argument — state — to the shor function, where you can initialize  to be state by using qml.QubitStateVector."
   ]
  },
  {
   "cell_type": "code",
   "execution_count": null,
   "metadata": {
    "id": "KSmVZTxHgSct"
   },
   "outputs": [],
   "source": [
    "dev = qml.device(\"default.qubit\", wires=9)\n",
    "\n",
    "@qml.qnode(dev)\n",
    "def shor(state, error_type, wires):\n",
    "    \"\"\"A quantum circuit that implements Shor's 9-qubit code\n",
    "\n",
    "    Args:\n",
    "        state (tensor): a numpy array representing a 1-qubit state: alpha |0> + beta |1>\n",
    "                        This is used to initialize the 0th wire with qml.QubitStateVector\n",
    "        error_type (str): for example, XX, YY, XZ, YZ.\n",
    "        wires (list(int)): the wires the error acts on.\n",
    "\n",
    "    Returns:\n",
    "        (tuple(tensor, tensor)): the separate probability distributions over the 0th wire (|psi>)\n",
    "        and all 8 ancillary qubits in that order.\n",
    "    \"\"\"\n",
    "\n",
    "    ##################\n",
    "    # YOUR CODE HERE #\n",
    "    ##################\n",
    "\n",
    "    qml.CNOT([0,3])\n",
    "    qml.CNOT([0,6])\n",
    "    for i in ([0,3,6]):\n",
    "        qml.Hadamard(i)\n",
    "    for i in ([0,3,6]):\n",
    "        qml.CNOT([i,i+1])\n",
    "    for i in ([0,3,6]):\n",
    "        qml.CNOT([i,i+2])\n",
    "\n",
    "    # apply the error\n",
    "    for err in error(error_type=error_type, wires=wires):\n",
    "        err\n",
    "\n",
    "    ##################\n",
    "    # YOUR CODE HERE #\n",
    "    ##################\n",
    "    for i in ([0,3,6]):\n",
    "        qml.CNOT([i,i+1])\n",
    "    for i in ([0,3,6]):\n",
    "        qml.CNOT([i,i+2])\n",
    "    for i in ([0,3,6]):\n",
    "        qml.Toffoli([i+2,i+1,i])\n",
    "        \n",
    "    for i in ([0,3,6]):\n",
    "        qml.Hadamard(i)\n",
    "    qml.CNOT([0,3])\n",
    "    qml.CNOT([0,6])\n",
    "    qml.Toffoli([6,3,0])\n",
    "\n",
    "\n",
    "    return qml.probs(wires=0), qml.probs(wires=range(1, 9))\n"
   ]
  },
  {
   "cell_type": "markdown",
   "metadata": {
    "id": "RbCNDBdygU8H"
   },
   "source": [
    "### Codercise E.3.3.\n",
    "\n",
    "Complete the decoded function below that will check to see if, given an error, Shor's code can correctly decode the input state. You have access to the shor function from before, as well as a function called random_state that can be used to create a random 1-qubit state (we will use it to initialize ) with positive and real coefficients."
   ]
  },
  {
   "cell_type": "code",
   "execution_count": null,
   "metadata": {
    "id": "TfYaxj-NgYWT"
   },
   "outputs": [],
   "source": [
    "def decoded(state, error_type, wires):\n",
    "    \"\"\"Tells us whether the state was decoded by Shor's code\n",
    "\n",
    "    Args:\n",
    "        state (tensor): a numpy array representing a 1-qubit state: alpha |0> + beta |1>\n",
    "        error_type (str): for example, XX, YY, XZ, YZ.\n",
    "        wires (list(int)): the wires the error acts on.\n",
    "\n",
    "    Returns:\n",
    "        (bool): True if state is decoded successfully, False if not.\n",
    "    \"\"\"\n",
    "    prob0 = shor(state, error_type, wires)[0]\n",
    "\n",
    "    \n",
    "    return np.all(prob0)==np.all(state*np.conj(state))\n",
    "\n",
    "state = random_state()\n",
    "\n",
    "single_qubit_errors = [[\"X\", [i]] for i in range(9)]\n",
    "single_qubit_errors += [[\"Y\", [i]] for i in range(9)]\n",
    "single_qubit_errors += [[\"Z\", [i]] for i in range(9)]\n",
    "\n",
    "decoded_list = []\n",
    "\n",
    "for err in single_qubit_errors:\n",
    "    decoded_list.append(decoded(state, *err))\n",
    "\n",
    "print(decoded_list)\n"
   ]
  },
  {
   "cell_type": "markdown",
   "metadata": {
    "id": "wYKK9EBcga3U"
   },
   "source": [
    "###Codercise E.3.4.a.\n",
    "\n",
    "Complete the find_the_one function such that it outputs the index  corresponding to where the error syndrome is equal to 1."
   ]
  },
  {
   "cell_type": "code",
   "execution_count": null,
   "metadata": {
    "id": "8KtEK3B4eFrF"
   },
   "outputs": [],
   "source": [
    "def find_the_one(syndrome):\n",
    "    \"\"\"Finds the entry in the error syndrome that is equal to 1.\n",
    "\n",
    "    Args:\n",
    "        syndrome (tensor): the output of the shor function\n",
    "\n",
    "    Returns:\n",
    "        (int): the index of the syndrome vector that is equal to 1. For example,\n",
    "        if syndrome = [0, 0, 1, 0], then this function would return 2.\n",
    "    \"\"\"\n",
    "    index = np.nonzero(syndrome)[0]  # Find the indices where the error syndrome is equal to 1\n",
    "\n",
    "    if len(index) > 0:\n",
    "        return index[0]  # Return the first index where the error syndrome is equal to 1\n"
   ]
  },
  {
   "cell_type": "markdown",
   "metadata": {
    "id": "-lC2KZxpggYe"
   },
   "source": [
    "### Codercise E.3.4.b.\n",
    "\n",
    "Now that we can analyze the error syndrome from Shor's code, let's look for unique error syndromes. In doing this, not only are the errors decodable, but for some we might be even able to tell what the error was."
   ]
  },
  {
   "cell_type": "code",
   "execution_count": null,
   "metadata": {
    "id": "IYILaZHMePbq"
   },
   "outputs": [],
   "source": [
    "single_qubit_errors = [[\"X\", [i]] for i in range(9)]\n",
    "single_qubit_errors += [[\"Y\", [i]] for i in range(9)]\n",
    "single_qubit_errors += [[\"Z\", [i]] for i in range(9)]\n",
    "\n",
    "all_syndromes = []\n",
    "unique_syndromes = []\n",
    "degenerate_syndromes = {}\n",
    "\n",
    "state = random_state()\n",
    "\n",
    "for err in single_qubit_errors:\n",
    "    ind = find_the_one(shor(state, *err)[1])\n",
    "\n",
    "    if ind in unique_syndromes:\n",
    "        # find other error that gave the same syndrome\n",
    "        other_ind = np.where(np.array(all_syndromes) == ind)[0].item()\n",
    "        unique_syndromes.remove(ind) # remove it from the unique syndromes\n",
    "        degenerate_syndromes[ind] = [single_qubit_errors[other_ind], err]\n",
    "\n",
    "    elif ind in degenerate_syndromes.keys():\n",
    "        degenerate_syndromes[ind].append(err)\n",
    "\n",
    "    else:\n",
    "        unique_syndromes.append(ind)\n",
    "\n",
    "    all_syndromes.append(ind)\n",
    "\n",
    "################\n",
    "# PRESS SUBMIT #\n",
    "################\n",
    "\n",
    "print(degenerate_syndromes)\n"
   ]
  },
  {
   "cell_type": "markdown",
   "metadata": {
    "id": "rfYxeH-lgmIu"
   },
   "source": [
    "### Codercise E.3.5.\n",
    " Determine if Shor's code can decode the following errors:"
   ]
  },
  {
   "cell_type": "code",
   "execution_count": null,
   "metadata": {
    "id": "JTEByR_TgnYB"
   },
   "outputs": [],
   "source": [
    "state = random_state()\n",
    "\n",
    "xxzz_error_0458 = [\"XXZZ\", [0, 4, 5, 8]]\n",
    "xxyyzz_error_371820 = [\"XXYYZZ\", [3, 7, 1, 8, 2, 0]]\n",
    "xyzxyzxyz_error_012345678 = [\"XYZXYZXYZ\", [0, 1, 2, 3, 4, 5, 6, 7, 8]]\n",
    "\n",
    "errors = [xxzz_error_0458, xxyyzz_error_371820, xyzxyzxyz_error_012345678]\n",
    "\n",
    "decoded_list = []\n",
    "\n",
    "for err in errors:\n",
    "    decoded_list.append(decoded(state, *err))\n",
    "\n",
    "print(decoded_list)\n"
   ]
  }
 ],
 "metadata": {
  "colab": {
   "authorship_tag": "ABX9TyNyzeicDVvS5XBu4QqmVYlz",
   "include_colab_link": true,
   "provenance": []
  },
  "kernelspec": {
   "display_name": "Python 3 (ipykernel)",
   "language": "python",
   "name": "python3"
  },
  "language_info": {
   "codemirror_mode": {
    "name": "ipython",
    "version": 3
   },
   "file_extension": ".py",
   "mimetype": "text/x-python",
   "name": "python",
   "nbconvert_exporter": "python",
   "pygments_lexer": "ipython3",
   "version": "3.12.0"
  }
 },
 "nbformat": 4,
 "nbformat_minor": 4
}
