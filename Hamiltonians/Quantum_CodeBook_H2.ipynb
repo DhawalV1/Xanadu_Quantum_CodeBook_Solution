{
 "cells": [
  {
   "cell_type": "markdown",
   "metadata": {
    "id": "ndAG3TA-kSUz"
   },
   "source": [
    "# H2 Unitaries\n",
    "In the last code challenge, you will have noticed that the quantum black box could be described by a Hadamard gate. This has the peculiar behaviour that applying it twice leads to the trivial box:"
   ]
  },
  {
   "cell_type": "markdown",
   "metadata": {},
   "source": [
    "Author: [Dhawal Verma](https://github.com/DhawalV1)\r\n",
    "LinkedIn: [Dhawal Verma](https://www.linkedin.com/in/dverma1729/)\r\n",
    "Twitter: [@dhawal3297](https://twitter.com/dhawal3297)"
   ]
  },
  {
   "cell_type": "markdown",
   "metadata": {
    "id": "0mchRoARkZPX"
   },
   "source": [
    "![](https://codebook.xanadu.ai/pics/repete2.svg)"
   ]
  },
  {
   "cell_type": "markdown",
   "metadata": {
    "id": "jXfW5dQTkcXf"
   },
   "source": [
    "### Codercise H.2.1.\n",
    " Write a function which checks if an array of complex numbers is unitary.\n",
    "\n",
    "Tip. You will find the np.identity, np.allclose, np.conjugate and np.transpose methods useful."
   ]
  },
  {
   "cell_type": "code",
   "execution_count": null,
   "metadata": {
    "id": "pAWvHCM7hUFl"
   },
   "outputs": [],
   "source": [
    "def unitary_check(operator):\n",
    "    \"\"\"Checks if a complex-valued matrix is unitary.\n",
    "    \n",
    "    Args:\n",
    "        operator (array[complex]): A square complex-valued array.\n",
    "        \n",
    "    Returns: \n",
    "        bool: Whether the matrix is unitary or not.\n",
    "    \"\"\"\n",
    "    \n",
    "    ##################\n",
    "    # YOUR CODE HERE #\n",
    "    ##################\n",
    "    n = len(unitary)\n",
    "    l = np.transpose(np.conjugate(unitary))\n",
    "    return np.allclose(unitary@l,np.identity(n))\n"
   ]
  },
  {
   "cell_type": "markdown",
   "metadata": {
    "id": "JcSSHvNGkl6X"
   },
   "source": [
    "![](https://codebook.xanadu.ai/pics/Ugate.svg)"
   ]
  },
  {
   "cell_type": "markdown",
   "metadata": {
    "id": "Gbho70hDkixo"
   },
   "source": [
    "### Codercise H.2.2. \n",
    "Create a circuit which applies a matrix if it is correctly sized and unitary using unitary_check(operator), and otherwise does nothing. You will need the qml.QubitUnitary gate from PennyLane."
   ]
  },
  {
   "cell_type": "code",
   "execution_count": null,
   "metadata": {
    "id": "eiP5fbV3kkf2"
   },
   "outputs": [],
   "source": [
    "n_bits = 1\n",
    "dev = qml.device(\"default.qubit\", wires=n_bits)\n",
    "\n",
    "@qml.qnode(dev)\n",
    "def unitary_circuit(operator):\n",
    "    \"\"\"Applies a matrix to the state if it is unitary and correctly sized.\n",
    "    \n",
    "    Args:\n",
    "        operator (array[complex]): A square complex-valued array.\n",
    "\n",
    "    Returns:\n",
    "        array[complex]: The state of the quantum system, after applying the\n",
    "        operator, if valid.\n",
    "    \"\"\"\n",
    "    ##################\n",
    "    # YOUR CODE HERE #\n",
    "    ##################\n",
    "    if unitary_check(operator) and operator.shape[0] ==2:\n",
    "\t    qml.QubitUnitary(operator, wires=0)\n",
    "\n",
    "    return qml.state()\n"
   ]
  }
 ],
 "metadata": {
  "colab": {
   "provenance": []
  },
  "kernelspec": {
   "display_name": "Python 3 (ipykernel)",
   "language": "python",
   "name": "python3"
  },
  "language_info": {
   "codemirror_mode": {
    "name": "ipython",
    "version": 3
   },
   "file_extension": ".py",
   "mimetype": "text/x-python",
   "name": "python",
   "nbconvert_exporter": "python",
   "pygments_lexer": "ipython3",
   "version": "3.12.0"
  }
 },
 "nbformat": 4,
 "nbformat_minor": 4
}
