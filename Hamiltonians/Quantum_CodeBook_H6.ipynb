{
 "cells": [
  {
   "cell_type": "markdown",
   "metadata": {
    "id": "ltxCzu5kxLf1"
   },
   "source": [
    "# H6 Linear Combination of Unitaries\n",
    "\n",
    "Trotterization approximates time evolution by reexpressing the full Taylor series as a product of simpler Taylor series"
   ]
  },
  {
   "cell_type": "markdown",
   "metadata": {},
   "source": [
    "Author: [Dhawal Verma](https://github.com/DhawalV1)\r\n",
    "LinkedIn: [Dhawal Verma](https://www.linkedin.com/in/dverma1729/)\r\n",
    "Twitter: [@dhawal3297](https://twitter.com/dhawal3297)"
   ]
  },
  {
   "cell_type": "markdown",
   "metadata": {
    "id": "THpj2s_3xV82"
   },
   "source": [
    "![](https://codebook.xanadu.ai/pics/h-circuit.svg)"
   ]
  },
  {
   "cell_type": "markdown",
   "metadata": {
    "id": "n1jx1qNKxYd6"
   },
   "source": [
    "### Codercise H.6.1.\n",
    "(a) Write a circuit for applying a sum of unitaries non-deterministically. Don't worry about initialization of the state just yet.\n",
    "\n",
    "Tip. Use qml.ControlledQubitUnitary to apply these unitaries with control bits."
   ]
  },
  {
   "cell_type": "code",
   "execution_count": null,
   "metadata": {
    "id": "moUu2VjwwzCT"
   },
   "outputs": [],
   "source": [
    "aux = 0\n",
    "main = 1\n",
    "n_bits = 2\n",
    "dev = qml.device(\"default.qubit\", wires=n_bits)\n",
    "\n",
    "def add_two_unitaries(U, V):\n",
    "    \"\"\"A circuit to apply the sum of two unitaries non-deterministically.\n",
    "\n",
    "    Args:\n",
    "        U (array): A unitary matrix, stored as a complex array.\n",
    "        V (array): A unitary matrix, stored as a complex array.\n",
    "    \"\"\"\n",
    "    qml.Hadamard(wires=aux)\n",
    "    ##################\n",
    "    # YOUR CODE HERE #\n",
    "    ##################\n",
    "    qml.ControlledQubitUnitary(U,control_wires=[0], wires=1,control_values='0')\n",
    "    qml.ControlledQubitUnitary(V,control_wires=[0], wires=1,control_values='1')\n",
    "    qml.Hadamard(wires=aux)\n"
   ]
  },
  {
   "cell_type": "markdown",
   "metadata": {
    "id": "kze0VJvyxdGW"
   },
   "source": [
    "(b) Complete the code below to apply the sum  to the state  (on the main register). You can invoke add_two_unitaries(U, V) from the last challenge, and access the matrix form of the Paulis using, e.g., qml.PauliX.matrix.\n",
    "\n",
    "Note that . Are the results what you expect?"
   ]
  },
  {
   "cell_type": "code",
   "execution_count": null,
   "metadata": {
    "id": "xqHyJIooxfnZ"
   },
   "outputs": [],
   "source": [
    "@qml.qnode(dev)\n",
    "def X_plus_Z():\n",
    "    \"\"\"Apply X + Z to |0> and return the state.\"\"\"\n",
    "    ##################\n",
    "    # YOUR CODE HERE #\n",
    "    ##################\n",
    "    U = qml.PauliX.compute_matrix()\n",
    "    V = qml.PauliZ.compute_matrix()\n",
    "    add_two_unitaries(U,V)\n",
    "    return qml.state()\n",
    "\n",
    "print(\"The amplitudes on the main register are proportional to\", X_plus_Z()[:2], \".\")\n"
   ]
  },
  {
   "cell_type": "markdown",
   "metadata": {
    "id": "AMisV8RRxoHi"
   },
   "source": [
    "![](https://codebook.xanadu.ai/pics/su-circuit.svg)"
   ]
  },
  {
   "cell_type": "markdown",
   "metadata": {
    "id": "O09a6hpYxtJf"
   },
   "source": [
    "### Codercise H.6.2.\n",
    "(a) Finish the code below to implement the SELECT subcircuit."
   ]
  },
  {
   "cell_type": "code",
   "execution_count": null,
   "metadata": {
    "id": "LYuyenSqxq3F"
   },
   "outputs": [],
   "source": [
    "k_bits = 2\n",
    "n_bits = 2\n",
    "all_bits = k_bits + n_bits\n",
    "aux = range(k_bits)\n",
    "main = range(k_bits, all_bits)\n",
    "dev = qml.device(\"default.qubit\", wires=all_bits)\n",
    "\n",
    "def SELECT_uniform(U_list):\n",
    "    \"\"\"Implement the SELECT subroutine for 2^k unitaries.\n",
    "\n",
    "    Args:\n",
    "        U_list (list[array[complex]]): A list of unitary matrices, stored as\n",
    "        complex arrays.\n",
    "    \"\"\"\n",
    "    for index in range(2**k_bits):\n",
    "        ctrl_str =  np.binary_repr(index, k_bits) # Create binary representation\n",
    "        ##################\n",
    "        # YOUR CODE HERE #\n",
    "        ##################\n",
    "        qml.ControlledQubitUnitary(U_list[index], control_wires =[i for i in range(k_bits)], wires = [i for i in range(n_bits, all_bits)], control_values=ctrl_str)\n"
   ]
  },
  {
   "cell_type": "markdown",
   "metadata": {
    "id": "K3GQ81h_xzRq"
   },
   "source": [
    "(b) Write a circuit to apply"
   ]
  },
  {
   "cell_type": "code",
   "execution_count": null,
   "metadata": {
    "id": "HiGW78q_xz3W"
   },
   "outputs": [],
   "source": [
    "@qml.qnode(dev)\n",
    "def XH_plus_HZ():\n",
    "    \"\"\"Apply XH + HZ to |01> and return the state.\"\"\"\n",
    "    U_list = [np.kron(qml.PauliX.compute_matrix(), qml.PauliX.compute_matrix()),\n",
    "              np.kron(qml.PauliZ.compute_matrix(), qml.PauliZ.compute_matrix()),\n",
    "              np.kron(qml.PauliX.compute_matrix(), qml.PauliZ.compute_matrix()),\n",
    "              np.kron(qml.PauliZ.compute_matrix(), qml.PauliX.compute_matrix())]\n",
    "    ##################\n",
    "    # YOUR CODE HERE #\n",
    "    ##################\n",
    "    qml.PauliX(wires=3)\n",
    "    qml.Hadamard(wires=0)\n",
    "    qml.Hadamard(wires=1)\n",
    "    SELECT_uniform(U_list)\n",
    "    qml.Hadamard(wires=0)\n",
    "    qml.Hadamard(wires=1)\n",
    "    return qml.state()\n",
    "\n",
    "print(\"The amplitudes on the main register are proportional to\", XH_plus_HZ()[:4], \".\")\n"
   ]
  },
  {
   "cell_type": "markdown",
   "metadata": {
    "id": "6q3roSs-x25G"
   },
   "source": [
    "![](https://codebook.xanadu.ai/pics/vk-circuit.svg)"
   ]
  },
  {
   "cell_type": "markdown",
   "metadata": {
    "id": "DxPujHC9x50C"
   },
   "source": [
    "### Codercise H.6.3.\n",
    "(a) Consider the matrix exponential of a unitary operator :"
   ]
  },
  {
   "cell_type": "code",
   "execution_count": null,
   "metadata": {
    "id": "vpRnIypDx4Ir"
   },
   "outputs": [],
   "source": [
    "def V(t):\n",
    "    \"\"\"Matrix for the PREPARE subroutine.\"\"\"\n",
    "    return np.array([[np.sqrt(t)/np.sqrt(t+1), -1/np.sqrt(t+1)],\n",
    "                    [1/np.sqrt(t+1), np.sqrt(t)/np.sqrt(t+1)]])\n",
    "\n",
    "def exp_U_first(U, t):\n",
    "    \"\"\"Implement the first two terms in the Taylor series for exp(tU).\n",
    "\n",
    "    Args:\n",
    "        U (array): A unitary matrix, stored as a complex array.\n",
    "        t (float): A time to evolve by.\n",
    "    \"\"\"\n",
    "    ##################\n",
    "    # YOUR CODE HERE #\n",
    "    ##################\n",
    "    qml.QubitUnitary(V(t), wires=0)\n",
    "    qml.ControlledQubitUnitary(U,control_wires=[0], wires=1, control_values='0')\n",
    "    qml.ControlledQubitUnitary(np.identity(2),control_wires=[0], wires=1, control_values='0')\n",
    "    qml.adjoint(qml.QubitUnitary)(V(t),wires=0)\n",
    "\n"
   ]
  },
  {
   "cell_type": "markdown",
   "metadata": {},
   "source": [
    "### Codercise H.6.4."
   ]
  },
  {
   "cell_type": "markdown",
   "metadata": {},
   "source": [
    "a) Familiar PREPARE subroutine"
   ]
  },
  {
   "cell_type": "code",
   "execution_count": null,
   "metadata": {},
   "outputs": [],
   "source": [
    "def prepare(coeffs):\n",
    "    \"\"\"Implements the PREPARE subroutine.,\n",
    "\n",
    "    Args:\n",
    "        coeffs (array): A vector of coefficients.\n",
    "    \"\"\"\n",
    "    ##################\n",
    "    # YOUR CODE HERE #\n",
    "    ##################\n",
    "    #n = np.linalg.norm(coeffs)\n",
    "    #m = coeffs/n\n",
    "    return qml.MottonenStatePreparation(normalize(coeffs),wires=[0,1])"
   ]
  },
  {
   "cell_type": "markdown",
   "metadata": {},
   "source": [
    "b) SELECT subroutine"
   ]
  },
  {
   "cell_type": "code",
   "execution_count": null,
   "metadata": {},
   "outputs": [],
   "source": [
    "def select(unitaries):\n",
    "    \"\"\"Implements a sequence of 4 controlled-unitary operations.\n",
    "\n",
    "    Args:\n",
    "        unitaries (list): A list containing 4 unitary operations in this order:\n",
    "        (U0, U1, U2, U3).\n",
    "    \"\"\"\n",
    "    ##################\n",
    "    # YOUR CODE HERE #\n",
    "    ##################\n",
    "    for index in range(4):\n",
    "        ctrl_str =  np.binary_repr(index,2) # Create binary representation\n",
    "        ##################\n",
    "        # YOUR CODE HERE #\n",
    "        ##################\n",
    "        qml.ControlledQubitUnitary(unitaries[index],aux,main,ctrl_str)"
   ]
  },
  {
   "cell_type": "markdown",
   "metadata": {},
   "source": [
    "c) Modulo relative phases : Finally, write circuits which implement the evolution , starting in the state, using the (i) the first-order approximation, (ii) the second-order approximation, and (iii) the full series via qml.RX. The functions exp_U_first and exp_U_second from the previous two exercises are available."
   ]
  },
  {
   "cell_type": "code",
   "execution_count": null,
   "metadata": {},
   "outputs": [],
   "source": [
    "def v0(t):\n",
    "    \"\"\"Calculates the first column of the PREPARE matrix, v0.\n",
    "\n",
    "    Args:\n",
    "        t (float): the time we evolve for.\n",
    "\n",
    "    Returns:\n",
    "        (array): v0 = [v00, v01, v02, v03] normalized\n",
    "    \"\"\"\n",
    "    ##################\n",
    "    # YOUR CODE HERE #\n",
    "    ##################\n",
    "    v00 = 1\n",
    "    v01 = np.sqrt(t)\n",
    "    v02 = t/np.sqrt(2)\n",
    "    v03 = 0\n",
    "    \n",
    "    return np.array([v00, v01, v02, v03])/np.sqrt(1+t+0.5*t**2)\n",
    "\n",
    "    \n",
    "def exp_U_second(unitaries, t):\n",
    "    \"\"\"Implements the second-order approximation to Hamiltonian time evolution. \n",
    "\n",
    "    Args:\n",
    "        unitaries (list): A list containing 4 unitary operations in this order:\n",
    "        (U0, U1, U2, U3).\n",
    "        t (float): The Hamiltonian evolution time. \n",
    "    \"\"\"\n",
    "    ##################\n",
    "    # YOUR CODE HERE #\n",
    "    ##################\n",
    "    prepare(v0(t))\n",
    "    \n",
    "    select(unitaries)\n",
    "    \n",
    "    qml.adjoint(qml.MottonenStatePreparation(normalize(v0(t)),wires=aux))\n",
    "    \n",
    "    "
   ]
  },
  {
   "cell_type": "markdown",
   "metadata": {
    "id": "XFSwkO_QzHYH"
   },
   "source": [
    "### Codercise H.6.5."
   ]
  },
  {
   "cell_type": "code",
   "execution_count": null,
   "metadata": {
    "id": "fTsNnVT8zIr2"
   },
   "outputs": [],
   "source": [
    "aux = [0, 1]\n",
    "main = [2]\n",
    "all_bits = aux + main\n",
    "\n",
    "U = qml.PauliX.compute_matrix()*(1.j)\n",
    "\n",
    "unitaries = [np.eye(2), U, U @ U, np.eye(2)] # U0, U1, U2, U3\n",
    "# Remember — U3 can be arbitrary!\n",
    "\n",
    "dev1 = qml.device(\"default.qubit\", wires=[aux[0]] + main)\n",
    "dev2 = qml.device(\"default.qubit\", wires=all_bits)\n",
    "\n",
    "# H.6.3\n",
    "@qml.qnode(dev1)\n",
    "def first_approx(t):\n",
    "    ##################\n",
    "    # YOUR CODE HERE #\n",
    "    ##################\n",
    "    \n",
    "    exp_U_first(U,t)\n",
    "    return qml.state()\n",
    "\n",
    "# H.6.4\n",
    "@qml.qnode(dev2)\n",
    "def second_approx(t):\n",
    "    ##################\n",
    "    # YOUR CODE HERE #\n",
    "    ##################\n",
    "    exp_U_second(unitaries,t)\n",
    "    return qml.state()\n",
    "\n",
    "# Exact Hamiltonian evolution\n",
    "@qml.qnode(dev2)\n",
    "def exact(t):\n",
    "    ##################\n",
    "    # YOUR CODE HERE #\n",
    "    ##################\n",
    "    qml.RX(-2*t,main)\n",
    "    return qml.state()\n",
    "\n",
    "##################\n",
    "# HIT SUBMIT FOR #\n",
    "# PLOTTING MAGIC #\n",
    "##################"
   ]
  },
  {
   "attachments": {
    "a12ed3ba-2d58-4c34-8136-52618a3cca08.png": {
     "image/png": "[encoded data removed]"
    }
   },
   "cell_type": "markdown",
   "metadata": {
    "id": "eT6-U_d3zaCr"
   },
   "source": [
    "![vhxx.png](attachment:a12ed3ba-2d58-4c34-8136-52618a3cca08.png)"
   ]
  },
  {
   "cell_type": "code",
   "execution_count": null,
   "metadata": {},
   "outputs": [],
   "source": []
  }
 ],
 "metadata": {
  "colab": {
   "provenance": []
  },
  "kernelspec": {
   "display_name": "Python 3 (ipykernel)",
   "language": "python",
   "name": "python3"
  },
  "language_info": {
   "codemirror_mode": {
    "name": "ipython",
    "version": 3
   },
   "file_extension": ".py",
   "mimetype": "text/x-python",
   "name": "python",
   "nbconvert_exporter": "python",
   "pygments_lexer": "ipython3",
   "version": "3.12.0"
  }
 },
 "nbformat": 4,
 "nbformat_minor": 4
}
